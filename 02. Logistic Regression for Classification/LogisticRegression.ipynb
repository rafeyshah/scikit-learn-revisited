{
 "cells": [
  {
   "cell_type": "code",
   "execution_count": 1,
   "metadata": {},
   "outputs": [],
   "source": [
    "import pandas as pd\n",
    "target_col = 'RainTomorrow'"
   ]
  },
  {
   "cell_type": "code",
   "execution_count": 2,
   "metadata": {},
   "outputs": [],
   "source": [
    "train_inputs = pd.read_parquet('train_inputs.parquet')\n",
    "val_inputs = pd.read_parquet('val_inputs.parquet')\n",
    "test_inputs = pd.read_parquet('test_inputs.parquet')\n",
    "\n",
    "train_targets = pd.read_parquet('train_targets.parquet')[target_col]\n",
    "val_targets = pd.read_parquet('val_targets.parquet')[target_col]\n",
    "test_targets = pd.read_parquet('test_targets.parquet')[target_col]"
   ]
  },
  {
   "cell_type": "code",
   "execution_count": null,
   "metadata": {},
   "outputs": [],
   "source": []
  }
 ],
 "metadata": {
  "kernelspec": {
   "display_name": "DLEx",
   "language": "python",
   "name": "python3"
  },
  "language_info": {
   "codemirror_mode": {
    "name": "ipython",
    "version": 3
   },
   "file_extension": ".py",
   "mimetype": "text/x-python",
   "name": "python",
   "nbconvert_exporter": "python",
   "pygments_lexer": "ipython3",
   "version": "3.12.3"
  }
 },
 "nbformat": 4,
 "nbformat_minor": 2
}
